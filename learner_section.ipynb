{
 "cells": [
  {
   "cell_type": "code",
   "execution_count": 329,
   "metadata": {},
   "outputs": [],
   "source": [
    "import torch\n",
    "import math\n",
    "PI=math.pi\n",
    "class GaussianRff:#the random_fourier_feature is only for gaussian kernel approximation\n",
    "    def __init__(self,dim,gamma,D=10):#dim is the dimension of data,D is the number of the features\n",
    "        self.W=torch.randn(D,dim)*torch.sqrt(torch.Tensor([2*gamma]))\n",
    "        self.b=torch.FloatTensor(D).uniform_(0,2*PI) \n",
    "        self.theta=torch.zeros(D)\n",
    "        self.D=D #number of features\n",
    "        self.grad=torch.zeros(D)\n",
    "        self.loss=torch.tensor(0)\n",
    "    def GenRFF(self,X):#return a tensor(n_smaples,D)\n",
    "        n_samples,dim=X.size()\n",
    "        X_feature=torch.sqrt(torch.Tensor([2/dim]))* torch.cos(torch.matmul(self.W,X.t())+self.b.repeat(n_samples,1).t())\n",
    "        return X_feature.t()\n",
    "    def Fit(self,X):\n",
    "        ff=self.GenRFF(X)\n",
    "        Y=torch.matmul(ff,self.theta)\n",
    "        return Y\n",
    "    def SolveTheta(self,X,Y):#solve parameters of RFF by linear system\n",
    "        X=self.GenRFF(X)\n",
    "        X=torch.pinverse(X)\n",
    "        self.theta=torch.matmul(X,Y)\n",
    "        return self.theta\n",
    "    \n",
    "    def LocalGradient(self,net,X,Y,lr=0.01):\n",
    "        criterion=torch.nn.MSELoss()#+torch.matmul(Net.weight.data,Net.weight.data.t())\n",
    "        opt=torch.optim.SGD(net.parameters(),lr)\n",
    "        xf=self.GenRFF(X)\n",
    "        yhat=net(xf).squeeze(-1)\n",
    "        # print('net Y:{}'.format(yhat))\n",
    "        loss=criterion(yhat,Y)\n",
    "        self.loss=loss\n",
    "        opt.zero_grad()\n",
    "        loss.backward()\n",
    "        # print(loss.data)\n",
    "        self.grad=net.weight.grad.data.squeeze()\n",
    "        return net\n",
    "    def LocalStep(self,net,ratio=1,lr=0.01):\n",
    "        opt=torch.optim.SGD(net.parameters(),lr)\n",
    "        # print('grad:',net.weight.grad.data)\n",
    "        net.weight.grad.data=net.weight.grad.data*ratio\n",
    "        # print('grad1:',Net.weight.grad.data)\n",
    "        opt.step()\n",
    "        self.theta=net.weight.data.squeeze()\n",
    "        return net"
   ]
  },
  {
   "cell_type": "code",
   "execution_count": 330,
   "metadata": {},
   "outputs": [
    {
     "name": "stdout",
     "output_type": "stream",
     "text": [
      "tensor([0.9207, 0.2446, 0.9696, 0.0237]) tensor(0.0237)\n"
     ]
    }
   ],
   "source": [
    "a=torch.rand(4)\n",
    "print(a,min(a))"
   ]
  },
  {
   "cell_type": "code",
   "execution_count": 331,
   "metadata": {},
   "outputs": [],
   "source": [
    "def fun(X):\n",
    "    N,dim=X.size()\n",
    "    y=torch.zeros(N)\n",
    "    for i in range(0,N):\n",
    "        Xi=torch.cos(X[i,:])*torch.cos(X[i,:])\n",
    "        y[i]=torch.dot(Xi.t()-1,Xi-1)+1\n",
    "    return y"
   ]
  },
  {
   "cell_type": "code",
   "execution_count": null,
   "metadata": {},
   "outputs": [],
   "source": []
  },
  {
   "cell_type": "code",
   "execution_count": 332,
   "metadata": {},
   "outputs": [],
   "source": [
    "N=100\n",
    "dim=1\n",
    "D=20\n",
    "gamma=1\n",
    "x=torch.randn(N,dim)+1\n",
    "y=fun(x)\n",
    "kernel=GaussianRff(dim,gamma,D)\n",
    "net=torch.nn.Linear(D,1,bias=False)\n",
    "net.weight.data=kernel.theta.unsqueeze(0)\n",
    "batch=1\n",
    "######\n",
    "T=N/batch\n",
    "##########################\n",
    "mse=torch.zeros(int(T))\n",
    "import torch.nn.functional as F\n",
    "# loss=F.mse_loss(yhat, yt)\n",
    "testN=100\n",
    "testX=torch.randn(N,dim)+1\n",
    "testY=fun(testX)\n",
    "#######################\n",
    "t=0\n",
    "while t<T:\n",
    "    net=kernel.LocalGradient(net,x[t:t+batch,:],y[t:t+batch])\n",
    "    net=kernel.LocalStep(net)\n",
    "    Ypre=kernel.Fit(testX)\n",
    "    mse[t]=F.mse_loss(Ypre,testY)\n",
    "    t+=1\n"
   ]
  },
  {
   "cell_type": "code",
   "execution_count": 335,
   "metadata": {},
   "outputs": [
    {
     "data": {
      "image/png": "[encoded data removed]",
      "text/plain": [
       "<Figure size 432x288 with 1 Axes>"
      ]
     },
     "metadata": {
      "needs_background": "light"
     },
     "output_type": "display_data"
    }
   ],
   "source": [
    "################ MSE plot ####################\n",
    "import os\n",
    "from matplotlib import pyplot as plt\n",
    "import matplotlib.colors as mcolors\n",
    "colors=list(mcolors.TABLEAU_COLORS.keys())\n",
    "# print('mse:{}'.format(mse))\n",
    "plt.figure(0)\n",
    "de_path='./'\n",
    "plt.plot(range(0,mse.shape[0]),mse,'.-',linewidth=0.2,markersize=1,color=mcolors.TABLEAU_COLORS[colors[0]])\n",
    "\n",
    "sk_pt='mse/sk/D_N_10_Sk_E_it_100_b_1_D_20_lam001'\n",
    "sk_path=de_path+sk_pt+'.pt'\n",
    "sk_mse=torch.load(sk_path)\n",
    "plt.plot(range(0,sk_mse.shape[0]),sk_mse,'.-',linewidth=0.2,markersize=1,color=mcolors.TABLEAU_COLORS[colors[1]])\n",
    "mk_pt='mse/mk/D_N_10_Mk_E_it_100_b_1_D_[20, 20, 20]_lam001'\n",
    "mk_path=de_path+mk_pt+'.pt'\n",
    "mk_mse=torch.load(mk_path)\n",
    "plt.plot(range(0,mk_mse.shape[0]),mk_mse,'.-',linewidth=0.2,markersize=1,color=mcolors.TABLEAU_COLORS[colors[4]])\n",
    "# mk_pt='mse/mk/D_N_5_Mk_E_it_200_b_10_D_[10, 10, 10]_lam001'\n",
    "# mk_path=de_path+mk_pt+'.pt'\n",
    "# mk_mse=torch.load(mk_path)\n",
    "# plt.plot(range(0,mk_mse.shape[0]),mk_mse,'.-',linewidth=0.2,markersize=1,color=mcolors.TABLEAU_COLORS[colors[2]])\n",
    "\n",
    "# #########\n",
    "# mk_pt1='mse/mk/D_N_5_Mk_E_it_200_b_10_D_[20, 20, 20]_lam001'\n",
    "# mk_path=de_path+mk_pt1+'.pt'\n",
    "# mk_mse=torch.load(mk_path)\n",
    "# plt.plot(range(0,mk_mse.shape[0]),mk_mse,'.-',linewidth=0.2,markersize=1,color=mcolors.TABLEAU_COLORS[colors[3]])\n",
    "\n",
    "# mk_pt2='mse/mk/D_N_5_Mk_E_it_200_b_10_D_[30, 30, 30]_lam001'\n",
    "# mk_path=de_path+mk_pt2+'.pt'\n",
    "# mk_mse=torch.load(mk_path)\n",
    "# plt.plot(range(0,mk_mse.shape[0]),mk_mse,'.-',linewidth=0.2,markersize=1,color=mcolors.TABLEAU_COLORS[colors[4]])\n",
    "\n",
    "# mk_pt3='mse/mk/N_5_lam_001'\n",
    "# mk_path=de_path+mk_pt3+'.pt'\n",
    "# mk_mse=torch.load(mk_path)\n",
    "# plt.plot(range(0,mk_mse.shape[0]),mk_mse,'.-',linewidth=0.2,markersize=1,color=mcolors.TABLEAU_COLORS[colors[5]])\n",
    "\n",
    "\n",
    "#########\n",
    "\n",
    "plt.legend(['Centra','{}'.format(sk_pt),'{}'.format(mk_pt)])\n",
    "plt.savefig('figs/CEN_MSE_it_{}_b_{}_D_{}.png'.format(int(T),batch,D),dpi=600)"
   ]
  },
  {
   "cell_type": "code",
   "execution_count": 334,
   "metadata": {},
   "outputs": [
    {
     "data": {
      "image/png": "[encoded data removed]",
      "text/plain": [
       "<Figure size 432x288 with 1 Axes>"
      ]
     },
     "metadata": {
      "needs_background": "light"
     },
     "output_type": "display_data"
    }
   ],
   "source": [
    "\n",
    "X=torch.randn(testN,dim)+1\n",
    "yt=fun(X)\n",
    "yhat=kernel.Fit(X)\n",
    "from matplotlib import pyplot as plt\n",
    "plt.plot(X[:,0],yt,'b.')\n",
    "plt.plot(X[:,0],yhat,'r*')\n",
    "[xmin,xmax,ymin,ymax]=[-1,3,0.8,2.2]\n",
    "plt.axis([xmin,xmax,ymin,ymax])\n",
    "plt.legend(['true:','fit:'])\n",
    "plt.savefig('figs/cen/CEN_FIT_it_{}_b_{}_D_{}.png'.format(int(T),batch,D),dpi=600)"
   ]
  }
 ],
 "metadata": {
  "interpreter": {
   "hash": "4d95e28e0b2bb151815e73f5bfd4d1086ebdd240256987b9aa718b80865eba48"
  },
  "kernelspec": {
   "display_name": "Python 3.9.7 64-bit ('torch190': conda)",
   "name": "python3"
  },
  "language_info": {
   "codemirror_mode": {
    "name": "ipython",
    "version": 3
   },
   "file_extension": ".py",
   "mimetype": "text/x-python",
   "name": "python",
   "nbconvert_exporter": "python",
   "pygments_lexer": "ipython3",
   "version": "3.9.7"
  },
  "orig_nbformat": 4
 },
 "nbformat": 4,
 "nbformat_minor": 2
}
